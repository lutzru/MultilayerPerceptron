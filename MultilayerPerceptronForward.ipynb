{
 "cells": [
  {
   "cell_type": "code",
   "execution_count": 1,
   "metadata": {},
   "outputs": [
    {
     "name": "stdout",
     "output_type": "stream",
     "text": [
      "Multilayer Perceptron\n"
     ]
    }
   ],
   "source": [
    "print('Multilayer Perceptron')"
   ]
  },
  {
   "cell_type": "code",
   "execution_count": 20,
   "metadata": {},
   "outputs": [
    {
     "name": "stdout",
     "output_type": "stream",
     "text": [
      "X: [ 0.49671415 -0.1382643   0.64768854  1.52302986]\n",
      "weights_input_to_hidden: [[-0.02341534 -0.0234137   0.15792128]\n",
      " [ 0.07674347 -0.04694744  0.054256  ]\n",
      " [-0.04634177 -0.04657298  0.02419623]\n",
      " [-0.19132802 -0.17249178 -0.05622875]]\n",
      "weights_hidden_to_output: [[-0.10128311  0.03142473]\n",
      " [-0.09080241 -0.14123037]\n",
      " [ 0.14656488 -0.02257763]]\n",
      "h1:-0.3436549385998425\n",
      "h1o (should 0.41492192) :0.41492192287919555\n"
     ]
    }
   ],
   "source": [
    "import numpy as np\n",
    "\n",
    "def sigmoid(x):\n",
    "    \"\"\"\n",
    "    Calculate sigmoid\n",
    "    \"\"\"\n",
    "    return 1/(1+np.exp(-x))\n",
    "\n",
    "# Network size\n",
    "N_input = 4\n",
    "N_hidden = 3\n",
    "N_output = 2\n",
    "\n",
    "np.random.seed(42)\n",
    "# Make some fake data\n",
    "X = np.random.randn(4)\n",
    "print(f'X: {X}')\n",
    "\n",
    "weights_input_to_hidden = np.random.normal(0, scale=0.1, size=(N_input, N_hidden))\n",
    "print(f'weights_input_to_hidden: {weights_input_to_hidden}')\n",
    "weights_hidden_to_output = np.random.normal(0, scale=0.1, size=(N_hidden, N_output))\n",
    "print(f'weights_hidden_to_output: {weights_hidden_to_output}')\n",
    "\n",
    "# test\n",
    "# one column to calculate a resulting perceptron value, hiden perceptron 1\n",
    "# is calcualted with X 1-4 and weight from matrix column 1\n",
    "h1 = X[0] *weights_input_to_hidden[0,0] + X[1]*weights_input_to_hidden[1,0] + X[2]*weights_input_to_hidden[2,0] + X[3]*weights_input_to_hidden[3,0] \n",
    "print(f'h1:{h1}')\n",
    "h1o = sigmoid(h1)\n",
    "print(f'h1o (should 0.41492192) :{h1o}')\n"
   ]
  },
  {
   "cell_type": "code",
   "execution_count": 21,
   "metadata": {},
   "outputs": [
    {
     "name": "stdout",
     "output_type": "stream",
     "text": [
      "[-0.34365494 -0.29801368  0.00097362]\n",
      "Hidden-layer Output:\n",
      "[0.41492192 0.42604313 0.5002434 ]\n",
      "[-0.00739221 -0.05842573]\n",
      "Output-layer Output:\n",
      "[0.49815196 0.48539772]\n"
     ]
    }
   ],
   "source": [
    "\n",
    "# TODO: Make a forward pass through the network\n",
    "\n",
    "# Network size\n",
    "# N_input = 4\n",
    "# N_hidden = 3\n",
    "# N_output = 2\n",
    "\n",
    "# linear combination of x and weights        \n",
    "h = np.dot(X, weights_input_to_hidden)\n",
    "print(h)\n",
    "hidden_layer_out = sigmoid(h)\n",
    "\n",
    "\n",
    "print('Hidden-layer Output:')\n",
    "print(hidden_layer_out)\n",
    "\n",
    "# now from 3 hidden perceptrons to 2 outputs,\n",
    "# weights matrix, has 1 column per output, here 2 columns,\n",
    "# and row for each input, here 3 rows because of 3 inputs (hidden)\n",
    "h2 = np.dot(hidden_layer_out, weights_hidden_to_output)\n",
    "print(h2)\n",
    "output_layer_out = sigmoid(h2)\n",
    "\n",
    "print('Output-layer Output:')\n",
    "print(output_layer_out)"
   ]
  },
  {
   "cell_type": "code",
   "execution_count": null,
   "metadata": {},
   "outputs": [],
   "source": []
  }
 ],
 "metadata": {
  "kernelspec": {
   "display_name": "Python [conda env:root] *",
   "language": "python",
   "name": "conda-root-py"
  },
  "language_info": {
   "codemirror_mode": {
    "name": "ipython",
    "version": 3
   },
   "file_extension": ".py",
   "mimetype": "text/x-python",
   "name": "python",
   "nbconvert_exporter": "python",
   "pygments_lexer": "ipython3",
   "version": "3.7.4"
  }
 },
 "nbformat": 4,
 "nbformat_minor": 2
}
